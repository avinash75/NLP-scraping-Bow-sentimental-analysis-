{
 "cells": [
  {
   "cell_type": "code",
   "execution_count": 14,
   "metadata": {},
   "outputs": [],
   "source": [
    "import string\n",
    "from collections import Counter\n",
    "\n",
    "import matplotlib.pyplot as plt"
   ]
  },
  {
   "cell_type": "code",
   "execution_count": 15,
   "metadata": {},
   "outputs": [],
   "source": [
    "\n",
    "def get_tweets():\n",
    "    import GetOldTweets3 as got   # library used to scrape data from twitter without any other tools\n",
    "    tweetCriteria = got.manager.TweetCriteria().setQuerySearch('#corona') \\\n",
    "        .setSince(\"2020-06-20\") \\\n",
    "        .setUntil(\"2020-06-30\") \\\n",
    "        .setMaxTweets(100)\n",
    "    # Creation of list that contains all tweets\n",
    "    tweets = got.manager.TweetManager.getTweets(tweetCriteria)\n",
    "    # Creating list of chosen tweet data\n",
    "    text_tweets = [[tweet.text] for tweet in tweets]\n",
    "    return text_tweets"
   ]
  },
  {
   "cell_type": "code",
   "execution_count": 16,
   "metadata": {},
   "outputs": [],
   "source": [
    "\n",
    "# reading text file\n",
    "text = \"\"\n",
    "text_tweets = get_tweets()\n",
    "\n",
    "length = len(text_tweets)\n",
    "\n",
    "for i in range(0, length):\n",
    "    text = text_tweets[i][0] + \" \" + text\n",
    "\n",
    "# converting to lowercase\n",
    "lower_case = text.lower()\n",
    "\n",
    "# Removing punctuations\n",
    "cleaned_text = lower_case.translate(str.maketrans('', '', string.punctuation))\n",
    "\n",
    "# splitting text into words\n",
    "tokenized_words = cleaned_text.split()"
   ]
  },
  {
   "cell_type": "code",
   "execution_count": 17,
   "metadata": {},
   "outputs": [
    {
     "data": {
      "text/plain": [
       "[['[416] #Maastricht Euh....HOEVEEL #mondkapjes (#Geschikt het #OV) wil je hebben ? Hier zijn ALLE #beschikbare mondkapjes. :-) (#Covid-19 #Corona) https://bit.ly/OVMondkapjes247'],\n",
       " ['Kit 3 peças R$80,00 Pronta entrega 6 e 18 meses 98860 0206 #dindasdindom #jacarepagua #riodejaneiro #modainfantil #infantil #ficaemcasa #emcasa #corona #covid #entregamosparatodobrasil #importados… https://www.instagram.com/p/CCCc61Dhy3M/?igshid=h9n4o8adb8ai'],\n",
       " ['#MemoirProject,Ch8(USA Update) #CORONA #CoronaStayHomePuzzles #PuzzlesCoronaStayHome #MyWife #MyDaughter,Second'],\n",
       " ['Uh...was this supposed to be encouraging? Cause, yeah, you dropped the ball on that one. \\u2066@CDCgov\\u2069 \\u2066@CDC_eHealth\\u2069 \\u2066@CDCFlu\\u2069 \\u2066@CDCGlobal #COVID19 #Corona '],\n",
       " ['We’re about to enter the second half of 2020... #maytheoddsbeeverinyourfavor #HungerGames #balladofsongbirdsandsnakes #COVID19 #coronavirus #corona #MurderHornets #secondwave #electionyear #lockdownextension #catchingfire #mockingjay'],\n",
       " ['#corona #wearyourmask #covid19 #maskcrew'],\n",
       " ['Un buen asado, unos vinos de calidad, compañía excelente... #bogota #vino #corona #asado #felizlunes en Santa Fe (Bogotá) https://www.instagram.com/p/CCCcklWHwuv/?igshid=annyzeq31mkh'],\n",
       " ['125,000#American deaths later; Moscow Mitch favors wearing masks to save lives. No shit it shouldn’t be a stigma to wear one. Welcome aboard. #Corona #MoscowMitch #MaskUp'],\n",
       " ['Not sure, but maybe all the #Corona spikes are due to #BlackLivesMatter protests '],\n",
       " ['e mais uma vez ganhamos a corrida? #corona '],\n",
       " ['20yo \"reporter\" thinks he knows more than an #expert #sciencematters Like a 16yo #whitegirl trying to tell a grown #BlackMan how he\\'s #oppressed #lol Welcome to #clownworld #NeilDunn #SenatorNeilDunn #DrNealDunn #covid19 #corona #coronavirus'],\n",
       " ['#Schwein haben oder #Schwein sein einiger #Menschen soviel glück die haben beides, #Ausbeutung #Corona #Rassismus #Laschet #Toennis #Schalke #Schalke04'],\n",
       " [\"Seriously, the conditions that animals are kept in is ATROCIOUS. And that is literally getting us killed. We need to stop immediately. Especially because pigs are more intelligent than dogs. It's not only spreading diseases, but also unimaginably cruel. #Flu #pandemic #Corona \"],\n",
       " ['Depois zoavam os judeus e a bíblia por PROIBIR O CONSUMO DE ANIMAIS \"EXÓTICOS\" E CARNE DE PORCO, está aí o motivo, pandemias! #China #Corona'],\n",
       " ['#corona what’s that ? does not infect the developer. Why ? 85% of software developers in the industry are anti social apparently ! #programming. #webdev'],\n",
       " ['…und immer will man das Gegenteil! Montag, 29. Juni 2020 #PlatjaLAlmadrava – #Spain #Spanien #España Guten Morgen Platja L’Almadrava https://www.camper-news.com/2020/06/30/und-immer-will-man-das-gegenteil/ #CamperNews #ParkingwithaCamper #wetterfotografie #weatherphotography #Corona #covid19 #Coronavirus #CamperCat'],\n",
       " [' COVID-19 CORONAVIRUS PANDEMIC Global Data Total Cases : 10,400,208 Total Recoverd : 5,646,431 Total Deaths : 507,494 #Corona #Covid19 #Coronavirus #Follow #CoronaUpdate'],\n",
       " ['GemaMedianet : Pasaman Raih Opini WTP Ketujuh Kalinya Secara Bert... https://www.gemamedianet.com/2020/06/pasaman-raih-opini-wtp-ketujuh-kalinya.html?spref=tw #nusantara #nkri #nasional #sumaterabarat #pasaman #corona #covid19 #bpkri #bpkriperwakilansumbar #opiniwtp #Nusantara'],\n",
       " ['Austria Reopens Its Brothels - #Austria #Brothels #Corona '],\n",
       " ['#COVID19 #COVID19Vic #Corona #COVIDIOTS'],\n",
       " ['#EPISODE We discuss #Evil #Humanity &amp; #Love #Podcast #Podcasts #Podcasting #Podcaster #Podcasters #Podernfamily #Apple #ApplePodcasts #Bible #Corona #WakeUp #Resist #CLE #Cleveland #USA #This #Truth #God #Satan #Jesus #BillandMelindaGates #America'],\n",
       " ['Der geniale #Virologe #Drosten wagt eine Zukunftsprognose über das #Corona Virus: Es wird sich abschwächen oder auch nicht! Wie bei den Wetterfröschen vom @ORF. Wenn es morgen nicht regnet oder schneit oder hagelt, dann scheint die Sonne. Ich bin begeistert.'],\n",
       " ['Follow http://instagram.com/faceckoock . . . . #followme #instadaily #outfit #f4f #USA #photographer #health #architecture #swag #sexy #workout #sun #luxury #awesome #follow4follow #cute #boy #tattoo #كوفيد19 #love #كورونا #design #covid19 #pretty #corona #instagram'],\n",
       " ['#corona warriors'],\n",
       " ['Apakah dirimu cukup cerdas di situasi seperti ini ?Tetap semangat Atasi Ketidakpastian dengan Tiga Solusi Cerdas #bankindonesia #solusicerdas #cerdas #covid19 #corona '],\n",
       " ['BRAND NEW #EPISODE We discuss #Evil #Humanity &amp; #Love in the first of our two part series #Podcast #Podcasts #Podcasting #Podcaster #Podcasters #Podernfamily #Apple #ApplePodcasts #Bible #COVID #Corona #WakeUp… https://www.instagram.com/p/CCCbig_pNrE/?igshid=1gm7othv96eiu'],\n",
       " ['Can’t wait for everybody to see the fun project we’ve been working on!!! moochtheseries this cast is amazing and brilliant...So lucky to work with them, and our fearless writer and director! #corona #creativity… https://www.instagram.com/p/CCCbYzDHOX_/?igshid=afn80n5w6pm6'],\n",
       " ['on Worldstar now!!!! #weedandalcohol #wartime #warisnecessary #bombfirst #corona #protest #mobshit #dte #cvr #gbe #artillery #gangshit #money #war #pain #love #krazy #richforever #stupid #childsupport #custody… https://www.instagram.com/p/CCCbVlfpT-n/?igshid=1xsrz87ox2j41'],\n",
       " ['HOT \"..In #Schweden nimmt die Zahl der Infektionen (es sind KEINE, nur false #PCR pos!) seit Anfang Juni wieder zu. Wohl, weil mehr getestet(!) wird. D.#Todeszahlen gehen weiter zurück, immer weniger #Corona-Patienten müssen ins Krankenhaus.. \" #COVID19'],\n",
       " ['#وزير_الإعلام_اليمني: «مرتزقة #إيران» يفتعلون أزمة مشتقات نفطية #عكاظ #ان_تكون_اولا #تطبيق_عكاظ #كورونا #corona @Okaz_Policy'],\n",
       " [\"Don't worry your one product is doing superbly well then any, all over the world... #COVID19. World thanks you for this Global Gift of #Corona. Master of Viruses.\"],\n",
       " ['@camanpour ,@nytimes ,@Jews ,@IrishTimes ,@BeckyCNN ,kraj sveta,#kopenhagen,ovde je vec kraj,#clones,#CloneWars ,#CloneClub,#klonovi,#beograd,#srbija,#srb,#itmka,#modrica,#COVID19 ,#Corona ,#korona,#usa,#la,#ny,kraj kugle,#sida,#cph,#kbh,nema vise'],\n",
       " ['29.06.2020 . . . #philippines #philippines #manila #cebu #coronavirus #corona #attic #attictours #フィリピン #マニラ #セブ ##コロナ #感染者数 #アティック #アティックツアーズ #アティックツアーズ東京 場所: Philippines https://www.instagram.com/p/CCCazvgHQPu/?igshid=f3sr7x3btage'],\n",
       " ['Schau dir an auf http://xboxdev.com kannst du etwas gewinnen! #giveaway #playathome #corona'],\n",
       " ['this is actually disgusting @ClayTravis #corona #coronavirus'],\n",
       " ['Do you suffer from viral fever? Not all viral fever is #Corona It might be a #ViralHemorrhagic Fever To read more click here https://diseasesdic.com/viral-hemorrhagic-fever-causes-symptoms/ #virus #fever #Infection #Viral #HealthForAll #healthcare #dengue #Ebola #DiseaseOutbreaks #TuesdayThoughts #USA #pandemic'],\n",
       " ['＼ 限定発売 ／ 『#パストリーゼ 17200ml』 残り：16点 Amazon https://amzn.to/38kbO9e #楽天市場 では入手困難 今なら手に入ります #手ピカジェル #次亜塩素酸 の代用品として #コロナ #Covid_19 #COVID19 #COVID #corona #COVIDー19'],\n",
       " ['[410] #NH (Ook) weer langzaam aan het #opstarten na de #Corona Crisis ? Ik ook ! En we zouden elkaar kunnen #helpen. https://bit.ly/WeZijnWeerOpen'],\n",
       " ['izleyelim, dinleyelim, tekrar edelim, tedbirleri elden birakmayalim, uyalim, uyaralim, sabirli olalim.. #corona #turkey #türkiye #maske #siperlik #mesafe #SocialDistancing #Coronovirus salgininda hangi noktadayiz? Prof. Dr. Esin Şenol : \\u2066@esenol\\u2069 https://www.instagram.com/tv/CCBy5Xag7Qc/?igshid=12xve6ximay6o'],\n",
       " [\"#BodoSchiffmann 's Jünger radikalisieren sich. - Teil 25 - Heute: Pranger, Knast oder doch gleich an die Wand? Ich befürchte, dass man mit solchen Anhängern keine demokratische Partei gründen kann... #Widerstand2020 #Wir2020 #Wir2020Partei #Corona #Covid19 #Wirr2020\"],\n",
       " [\"#Corona spreads by Droplets, may it b #tobacco spitting. Public Requesting @TSRTCHQ @tsrtcbuses drivers to avoid gutkha habit for sake of public health. Hon'ble @AjayPuvvada sir pl take very good action. Make a Act on Tobacco Ban\"],\n",
       " ['We are #hiring General Labor in Corona, CA http://ziprecruiter.com/tja/d10f2d47 #jobs #Corona'],\n",
       " ['Coronavirus LIVE: बिहार में मिले 112 नए पॉजिटिव केस, राज्य में पीड़ितों की संख्या 9,618 हुई #Corona #CoronaUpdatesInIndia'],\n",
       " [\"#CoronaInfoCH #COVID19 #corona 'It's in our col... \"],\n",
       " ['#CoronaInfoCH #COVID19 #corona #australia #trendingnews Coronavirus pandemic ...'],\n",
       " ['#CoronaInfoCH #COVID19 #corona #canada #trendingnews At the open: TS...'],\n",
       " ['#CoronaInfoCH #COVID19 #corona #canada #trendingnews...'],\n",
       " ['Graffiti Corona Watching here https://youtu.be/UxtOurKA7eg #graffiti #GraffArt #graffitiart #graffiticorona #COVID19 #COVIDー19 #Covid_19 #Corona #StayAtHome #koronavirus #WFH #sketchnotes #sketch #drawingtutorial #tutorials #drawingoftheday #style #GraffArtCAFE #VirusCorona #art'],\n",
       " ['Last updated: 2020-06-29 23:05:01+00:00GMT Coronavirus [COVID-19] Cases: 10395568 Deaths: 507411 #corona #coronavirus #COVID19'],\n",
       " ['#CoronaInfoCH #COVID19 #corona #trendingnews Tennessee advances 6-week abortion b...'],\n",
       " ['#CoronaInfoCH #COVID19 #corona #trendingnews Administration drops secrecy p...'],\n",
       " ['Just heard someone went to get tested at a drive thru w her kid. Registered to take test. Got sick of waiting and left. Few days later got a call they were both positive. They never even took the test...The numbers are a lie!! #Covid #Corona #Plandemic #COVID19 #FakeNews'],\n",
       " ['#CoronaInfoCH #COVID19 #corona #trendingnews Lufthansa: Implementation of bailout deal not guar...'],\n",
       " ['#CoronaInfoCH #COVID19 #corona #trendingnews Strong anti-racism message at re-start of Premier...'],\n",
       " ['#Corona totals are cooked! FOLLOW: cdc Plus, a 98.5% recovery All the initial data was guessed! Think: No one had tests available !!'],\n",
       " ['Bestätigte Personen mit covid-19 in Deutschland: 195042 Genesen: 177770 Gestorben: 8976 - #covid19 #coronavirus #corona #coronavirusdeutschland #covid #virus #deutschland #rki #SARSCoV2 #SARS_CoV_2 #deutschland'],\n",
       " ['Halbjahresbilanz an der Börse: #GAFAM-Aktien, #Tesla und #Zoom trotzen #Corona '],\n",
       " ['by the way some of you guys tweet I can tell u don’t wash your hands #corona is still there pls be #cautious'],\n",
       " [\"Les urgences de l'heure tournent autour des réponses à apporter au #Corona et aux conséquences de la crise économique (3 millions de chômeurs, des milliers d'entreprises fermées, une raréfaction des ressources en devises, baisse du pouvoir d'achat, menaces sur les #retraites...)\"],\n",
       " ['[407] #Flevo24 Euh....HOEVEEL #mondkapjes (#Geschikt het #OV) wil je hebben ? Hier zijn ALLE #beschikbare mondkapjes. :-) (#Covid-19 #Corona) https://bit.ly/OVMondkapjes247'],\n",
       " ['descansa.pao sucesso de cestos pra Fermentação!! Agora é só produzir os pães, obrigado pelo atendimento!!! #paes #hamburger #delicia #corona #sourdough #rustico #bread #levain #pao #fermentacaonatural… https://www.instagram.com/p/CCCY-7rAUvJ/?igshid=1rhtk7ttsyz03'],\n",
       " ['Kit 3 peças R$80,00 Pronta entrega 12 e 18 meses 98860 0206 #dindasdindom #jacarepagua #riodejaneiro #modainfantil #infantil #ficaemcasa #emcasa #corona #covid #entregamosparatodobrasil #importados… https://www.instagram.com/p/CCCY-8RhYso/?igshid=1mj57ev1jtndr'],\n",
       " ['Entschuldigung, das ist ja noch schlimmer grausamer als von der #Corona infiziert zu werden, #Ekelhaft 30 Tausend Verdächtige, eine schön zuviel,! und was wird mit #Kinder lebenslang müssen sie versuchen damit irgendwie umzugehen,? wenn es möglich ist,?'],\n",
       " ['YALLL, my grandma died in March and my mom is trying to give me my grandmas old freezer food #Missrona #corona #salmon #dead'],\n",
       " ['Long-term effects !!!! Covid-19 makes serious, lifelong secondary impacts on the human body. #Corona '],\n",
       " [' Foreeeeeee Shop here http://nyheavytractor.com 1-631-901-4737 #rubbertracks #tracks #ctl #mtl #heavyequipment #corona #deere #heavyequipmentlife #ny #bobcat #undercarriage #cat #asv #terex #johndeere #deere… https://www.instagram.com/p/CCCYgqTJlyP/?igshid=zidc3pb9xoq7'],\n",
       " ['もうあっという間に満員電車 アナウンスで｢時差通勤、テレワークのご協力をお願いします。｣ってまだ言ってるわけ... だから企業に言って！ #小田急線 #千代田線 #CORONA #満員通勤電車 #企業'],\n",
       " [\"Y'all... believe it or not we are actually STILL RECRUITING for this study... #COVID #Covid_19 #COVID19 #Corona #CoronavirusPandemic #coronavirus\"],\n",
       " ['New CD Single, Corona “Baby Baby” (1995). #cd #cdsingle #90s #pop #usa #uk #musiccollector #corona #babybaby #dancemusic #music #songs #cdcollection #cdcollector'],\n",
       " ['#elearning #freelance #freelancing #Ghana #Coronavirus #onlinecourses #lessonsofcorona #corona #GH #tech'],\n",
       " ['https://youtu.be/NXSjQOsrRuo #corona #MissUniverse #broken #nytimes #histsci #upset #leanin #ciclismoxespn #people #peopleare #time #shit #love #things #trump #peoplethink #year #person #lot #life #hatepeople #manypeople #dont #whitepeople #thing #everyone #work #peopleknow #youare'],\n",
       " ['Are you looking to pay your bills? Do you need emergency funds? Apply for money on http://personalloanexpert.com #covid #coronavirus #covid19 #jobloss #target #minimumwage #wages #unemployment #loan #loans #news #usa #breaking #us #paydayloans #corona #personalloan #personalloanexpert'],\n",
       " ['#الكويت: «#أمن_الدولة» يستدعي #الدويلة إثر تسريب لقائه مع #القذافي #عكاظ #ان_تكون_اولا #تطبيق_عكاظ #كورونا #corona '],\n",
       " ['#controleemocional #ansiedade #crisedeansiedade #depressão #angustia #estresse #vocênocomando #eunocomando #pandemia #covid19 #corona #covid_19 Amanda Moreira Psicóloga CRP 06/98852 11 95530-8725'],\n",
       " ['Shares of #Zoom jumped after the video conference company announced it has surpassed 300 million daily users, an increase of 100 million users since its last update on April 1. #Corona #quarantine #coronavirus #entrepreneur #videoconference'],\n",
       " ['#Zoyaqq #Pokeronline #Dominoonline #bandarq #Dirumahaja #Staysave #Stayhome #Covid19 #Corona #Zoyaqq #rajaqq #indoqq #dewapoker #dewaqq #asikqq #ituqq #ahliqq #maindomino99 #aslidomino #ratuqq'],\n",
       " ['Total Coronavirus Cases: 10,395,640 Current Deaths: 507,416 Total Recoveries: 5,646,130 #Coronavirus #Corona #Covid19 #CoronaVirusUpdate'],\n",
       " [\"Yesterday's poster delivery #fightcovid #covid19 #pandemic #corona #youmatter #thankyou #staysafe #jonah #conquercovid #portcredit #spreadingjoy #mississauga #thymeristorante\"],\n",
       " ['#gemeinsamgegencorona #Corona #MNS #AbstandHalten Gn8! Jeden Tag von früh bis spät - immer, so schaffen wir das ohne uns die #Freiheit nehmen lassen zu müssen - das ist unsere #freie #Entscheidung! #Verantwortung #Eigenverantwortung'],\n",
       " [\"lately I discovered a hobby 4 me which is writing, actually I didn't know how much I love it, I didn't give it much time because I was busy most of the time but #Corona made me obsessed with it and I discovered that it is one of few things that can easily change my mood 4 better.\"],\n",
       " ['Not any of out of these but #corona had best in this year with billions #Covid_19 #ufc'],\n",
       " ['Mas info!! El #corona es impredecible! \\u2066@MeLateTV\\u2069 \\u2066@sergiorojas56\\u2069 \\u2066@danielexhuevo\\u2069 #melatetvmas dr chanta! Este virus es impredecible NO Asi que es imposible asegurar que no es posible el recontagio De hecho el recontagio es peor'],\n",
       " ['https://youtu.be/xEpXgm97P9s @depressionnote #TikTok @FindInnerPeace @WHO #health #MentalHealthMatters #Covid_19 #india #lockdownextension #Corona'],\n",
       " ['\"Personer som testats negativt för antikroppar, kan ändå ha så kallad T-cellsimmunitet mot covid-19.\" #svpol #coronasweden #covid19 #corona '],\n",
       " ['#عاجل | بعد ثبوت أمانه وفعاليته.. أول استخدام للقاح مضاد لـ #كورونا #عكاظ #ان_تكون_اولا #تطبيق_عكاظ #كورونا #corona '],\n",
       " ['Public Head To Beaches in England Amidst Corona-virus Read Full Story: http://ow.ly/IVlG50AleeJ #the_hilight #corona #india #photography #england #germany #france #uk #italy #romania #america #spain #europe #australia #belgium #portugal #india #austria https://thehilight.in/global/public-head-to-beaches-in-england-amidst-coronavirus/'],\n",
       " ['#Breaking #brekend #nieuws #bbc meldt een nieuw #virus onder #varkens . Het lijkt een virus te zijn dat overdraagbaar is op mensen. Terwijl we nog vol in #corona zitten is er een nieuwe #pandemie op komst '],\n",
       " ['אז כמה חולי קורונה יש בישראל? 24441 מאומתים 319 מתים 17218 שהבריאו עדכון אחרון 2020-06-30 01:43:37 #corona #covid19 #קורונה #קוביד19'],\n",
       " ['noch was, ach ja #Ausbeutung #Corona #Tönnies #Laschet #Rassismus #Schalke04 #Schalke'],\n",
       " ['Health Actions for Women #homeremedies #nutritiontips #exercise #stayhome #workout #healthcoach #healthybody #staysafe #fitnesstips #wellnesstips #organic #love #nutritionist #wellbeing #gym #corona #mentalhealth #healthfacts #motivation #healthtipsoftheday #detox #healthydiet'],\n",
       " ['Das ist sehr interessant: Covid-19: Schon im März 2019 in Barcelona? #Abwasserprobe #Corona #coronavirus #SARSCoV2 #SARS_CoV_2'],\n",
       " [\"Do you need logo design? Please visit here: https://bit.ly/38gPSeX #PutinsGOP #Sub2DramaAlert #MS-13 #Virgil #Trump's America #logodesign #logo #realestate #Professionals #Coronavirus #Corona #TrumpsCoronavirusRally #sports\"],\n",
       " ['Update zu Artikel » Das brisante #Corona-Papier und seine Botschaft : Schweizer Professor erklärt, warum bei Corona alle falsch lagen und immer noch falsch liegen https://www.mycomfor.com/Artikel/Das-brisante-Corona-Papier-und-seine-Botschaft_193224#.Xvpx1hoX2ZA.twitter'],\n",
       " ['Laser Light Scattering Experiment Showing Speech Generated Droplets, from \"Visualizing Speech Generated Oral Fluid Droplets With Laser Light Scattering\" https://sci-hub.tw/10.1056/NEJMc2007800 #COVID19 #coronavirus #mask #MaskUp #masks #CoronaOutbreak #corona '],\n",
       " ['@AlfredDraxler Ekelhaft wie du Alkoholiker versuchst mit deinem Artikel von #Schalke und #Tönnies abzulenken. Nimmst dafür sogar noch ein Bild von Dortmund vs. Hoppenheim. Fahr doch nach #Rheda und besuche ihn und dann kommst du mit einer #Corona Infektion zurück und stirbst.'],\n",
       " ['#CoronaInfoCH #COVID19 #corona #germany #trendingnews Frankreich: Eindlich ein offenes Feld, S...'],\n",
       " ['#CoronaInfoCH #COVID19 #corona #germany #trendingnews Rettung der Juge...'],\n",
       " [\"ABD'de COVİD-19 salgını sonrası işsizlerin sayısı 45 Milyona Ulaştı #ABD #USAF #USA #coronavirus #COVID19 #Corona #Covid_19 #CoronavirusPandemic #COVID #Covid_19Pandemic\"],\n",
       " ['#CoronaInfoCH #COVID19 #corona #trendingnews #us Channel 4 Gree...'],\n",
       " ['#CoronaInfoCH #COVID19 #corona #trendingnews In Lockdown, Mathematicians Crack a Stub...']]"
      ]
     },
     "execution_count": 17,
     "metadata": {},
     "output_type": "execute_result"
    }
   ],
   "source": [
    "# Print texts\n",
    "text_tweets"
   ]
  },
  {
   "cell_type": "code",
   "execution_count": 18,
   "metadata": {},
   "outputs": [],
   "source": [
    "stop_words = [\"i\", \"me\", \"my\", \"myself\", \"we\", \"our\", \"ours\", \"ourselves\", \"you\", \"your\", \"yours\", \"yourself\",\n",
    "              \"yourselves\", \"he\", \"him\", \"his\", \"himself\", \"she\", \"her\", \"hers\", \"herself\", \"it\", \"its\", \"itself\",\n",
    "              \"they\", \"them\", \"their\", \"theirs\", \"themselves\", \"what\", \"which\", \"who\", \"whom\", \"this\", \"that\", \"these\",\n",
    "              \"those\", \"am\", \"is\", \"are\", \"was\", \"were\", \"be\", \"been\", \"being\", \"have\", \"has\", \"had\", \"having\", \"do\",\n",
    "              \"does\", \"did\", \"doing\", \"a\", \"an\", \"the\", \"and\", \"but\", \"if\", \"or\", \"because\", \"as\", \"until\", \"while\",\n",
    "              \"of\", \"at\", \"by\", \"for\", \"with\", \"about\", \"against\", \"between\", \"into\", \"through\", \"during\", \"before\",\n",
    "              \"after\", \"above\", \"below\", \"to\", \"from\", \"up\", \"down\", \"in\", \"out\", \"on\", \"off\", \"over\", \"under\", \"again\",\n",
    "              \"further\", \"then\", \"once\", \"here\", \"there\", \"when\", \"where\", \"why\", \"how\", \"all\", \"any\", \"both\", \"each\",\n",
    "              \"few\", \"more\", \"most\", \"other\", \"some\", \"such\", \"no\", \"nor\", \"not\", \"only\", \"own\", \"same\", \"so\", \"than\",\n",
    "              \"too\", \"very\", \"s\", \"t\", \"can\", \"will\", \"just\", \"don\", \"should\", \"now\"]\n",
    "\n",
    "# Removing stop words from the tokenized words list\n",
    "final_words = [word for word in tokenized_words if word not in stop_words]"
   ]
  },
  {
   "cell_type": "code",
   "execution_count": 19,
   "metadata": {},
   "outputs": [
    {
     "name": "stdout",
     "output_type": "stream",
     "text": [
      "Counter({' fearful': 2, ' happy': 1, ' obsessed': 1, ' sad': 1, ' independent': 1}) 6\n"
     ]
    }
   ],
   "source": [
    "# Get emotions text\n",
    "emotion_list = []\n",
    "with open('emotions.txt', 'r') as file:\n",
    "    for line in file:\n",
    "        clear_line = line.replace('\\n', '').replace(',', '').replace(\"'\", '').strip()\n",
    "        word, emotion = clear_line.split(':')\n",
    "        if word in final_words:\n",
    "            emotion_list.append(emotion)\n",
    "\n",
    "        \n",
    "w = Counter(emotion_list)\n",
    "print(w,len(emotion_list) )\n",
    "\n"
   ]
  },
  {
   "cell_type": "code",
   "execution_count": 20,
   "metadata": {},
   "outputs": [
    {
     "data": {
      "image/png": "[encoded data removed]",
      "text/plain": [
       "<Figure size 432x288 with 1 Axes>"
      ]
     },
     "metadata": {
      "needs_background": "light"
     },
     "output_type": "display_data"
    }
   ],
   "source": [
    "fig, ax1 = plt.subplots()\n",
    "ax1.bar(w.keys(), w.values())\n",
    "fig.autofmt_xdate()\n",
    "plt.savefig('graph.png')\n",
    "plt.show()"
   ]
  },
  {
   "cell_type": "code",
   "execution_count": null,
   "metadata": {},
   "outputs": [],
   "source": []
  },
  {
   "cell_type": "code",
   "execution_count": 33,
   "metadata": {},
   "outputs": [
    {
     "name": "stdout",
     "output_type": "stream",
     "text": [
      "CountVectorizer(analyzer='word', binary=False, decode_error='strict',\n",
      "                dtype=<class 'numpy.int64'>, encoding='utf-8', input='content',\n",
      "                lowercase=True, max_df=1.0, max_features=None, min_df=1,\n",
      "                ngram_range=(1, 1), preprocessor=None,\n",
      "                stop_words=['i', 'me', 'my', 'myself', 'we', 'our', 'ours',\n",
      "                            'ourselves', 'you', \"you're\", \"you've\", \"you'll\",\n",
      "                            \"you'd\", 'your', 'yours', 'yourself', 'yourselves',\n",
      "                            'he', 'him', 'his', 'himself', 'she', \"she's\",\n",
      "                            'her', 'hers', 'herself', 'it', \"it's\", 'its',\n",
      "                            'itself', ...],\n",
      "                strip_accents=None, token_pattern='(?u)\\\\b\\\\w\\\\w+\\\\b',\n",
      "                tokenizer=None, vocabulary=None)\n"
     ]
    }
   ],
   "source": [
    "from sklearn.feature_extraction.text import CountVectorizer \n",
    "\n",
    "from nltk.corpus import stopwords\n",
    "import pandas as pd\n",
    "\n",
    "stop_words = stopwords.words('english')\n",
    "\n",
    "\n",
    "vect1 = CountVectorizer(stop_words=stop_words)\n",
    "print (vect1)"
   ]
  },
  {
   "cell_type": "code",
   "execution_count": 34,
   "metadata": {},
   "outputs": [
    {
     "name": "stdout",
     "output_type": "stream",
     "text": [
      "bag of words : ['014337', '0206', '0698852', '100', '10395568', '10395640', '10400208', '11', '112', '12', '125000american', '16319014737', '16yo', '16点', '17200ml', '17218', '177770', '18', '195042', '1995', '2019', '2020', '20200629', '20200630', '20yo', '2305010000gmt', '24441', '25', '29', '29062020', '30', '300', '319', '407', '410', '416', '45', '507411', '507416', '507494', '5646130', '5646431', '6week', '85', '8976', '90s', '955308725', '9618', '985', '98860', 'aan', 'abd', 'abdde', 'aboard', 'abortion', 'abschwächen', 'abstandhalten', 'abwasserprobe', 'abzulenken', 'ach', 'act', 'action', 'actions', 'actually', 'administration', 'advances', 'agora', 'ahliqq', 'ajaypuvvada', 'alfreddraxler', 'alkoholiker', 'alle', 'almadrava', 'als', 'also', 'amanda', 'amazing', 'amazon', 'america', 'amidst', 'amp', 'anfang', 'angustia', 'anhängern', 'animais', 'animals', 'announced', 'ansiedade', 'anti', 'antikroppar', 'antiracism', 'apakah', 'apparently', 'apple', 'applepodcasts', 'apply', 'apporter', 'april', 'architecture', 'art', 'artikel', 'artillery', 'asado', 'asegurar', 'asi', 'asikqq', 'aslidomino', 'asv', 'atasi', 'atendimento', 'atrocious', 'attic', 'attictours', 'au', 'auch', 'auf', 'ausbeutung', 'australia', 'austria', 'autour', 'aux', 'available', 'avoid', 'awesome', 'aí', 'baby', 'babybaby', 'bailout', 'baisse', 'ball', 'balladofsongbirdsandsnakes', 'ban', 'bandarq', 'bankindonesia', 'barcelona', 'bbc', 'beaches', 'beckycnn', 'befürchte', 'begeistert', 'bei', 'beides', 'belgium', 'believe', 'bert', 'beschikbare', 'best', 'bestätigte', 'besuche', 'better', 'bible', 'bild', 'billandmelindagates', 'billions', 'bills', 'bin', 'birakmayalim', 'bis', 'blacklivesmatter', 'blackman', 'bobcat', 'bodoschiffmann', 'body', 'bogota', 'bogotá', 'bombfirst', 'botschaft', 'boy', 'bpkri', 'bpkriperwakilansumbar', 'brand', 'bread', 'breaking', 'brekend', 'brilliantso', 'brisante', 'broken', 'brothels', 'buen', 'busy', 'bíblia', 'börse', 'ca', 'calidad', 'call', 'camanpour', 'campercat', 'campernews', 'canada', 'carne', 'cases', 'cast', 'cat', 'catchingfire', 'cause', 'cautious', 'cd', 'cdc', 'cdcehealth', 'cdcflu', 'cdcglobal', 'cdcgov', 'cdcollection', 'cdcollector', 'cdsingle', 'cebu', 'cerdas', 'cestos', 'change', 'channel', 'chanta', 'childsupport', 'china', 'chômeurs', 'ciclismoxespn', 'claytravis', 'cle', 'cleveland', 'click', 'cloneclubklonovibeogradsrbijasrbitmkamodricacovid19', 'clownworld', 'col', 'company', 'compañía', 'conditions', 'conference', 'conquercovid', 'consumo', 'conséquences', 'controleemocional', 'cooked', 'corona', 'coronainfoch', 'coronaoutbreak', 'coronapapier', 'coronapatienten', 'coronastayhomepuzzles', 'coronasweden', 'coronaupdate', 'coronaupdatesinindia', 'coronavirus', 'coronavirusdeutschland', 'coronaviruspandemic', 'coronavirusupdate', 'coronovirus', 'corrida', 'covi', 'covid', 'covid19', 'covid19pandemic', 'covid19vic', 'covidiots', 'covidー19', 'crack', 'creativity', 'crise', 'crisedeansiedade', 'crisis', 'crp', 'cruel', 'ctl', 'cukup', 'current', 'custody', 'cute', 'cvr', 'd19', 'dachat', 'dafür', 'daily', 'damit', 'dancemusic', 'danielexhuevo', 'dann', 'das', 'dass', 'dat', 'data', 'days', 'de', 'dead', 'deal', 'deaths', 'deere', 'deinem', 'delicia', 'delivery', 'demokratische', 'den', 'dengan', 'dengue', 'dentreprises', 'depois', 'depressionnote', 'depressão', 'der', 'des', 'descansapao', 'design', 'detox', 'deutschland', 'developer', 'developers', 'devises', 'dewapoker', 'dewaqq', 'di', 'didnt', 'die', 'died', 'dindasdindom', 'dinleyelim', 'dir', 'director', 'dirimu', 'dirumahaja', 'discovered', 'discuss', 'diseaseoutbreaks', 'diseases', 'disgusting', 'doch', 'dogs', 'dominoonline', 'dont', 'dortmund', 'dr', 'drawingoftheday', 'drawingtutorial', 'drive', 'drivers', 'drnealdunn', 'droplets', 'dropped', 'drops', 'drosten', 'dte', 'dtodeszahlen', 'du', 'due', 'easily', 'ebola', 'edelim', 'een', 'effects', 'eigenverantwortung', 'ein', 'eindlich', 'eine', 'einer', 'einiger', 'ekelhaft', 'el', 'elden', 'elearning', 'electionyear', 'elkaar', 'emcasa', 'emergency', 'en', 'encouraging', 'england', 'enter', 'entrega', 'entregamosparatodobrasil', 'entrepreneur', 'entscheidung', 'entschuldigung', 'episode', 'er', 'erklärt', 'es', 'esenol', 'esin', 'españa', 'especially', 'este', 'estresse', 'está', 'et', 'etwas', 'euhhoeveel', 'eunocomando', 'europe', 'even', 'everybody', 'everyone', 'evil', 'excelente', 'exercise', 'experiment', 'expert', 'exóticos', 'f4f', 'fahr', 'fakenews', 'falsch', 'false', 'favors', 'fe', 'fearless', 'feld', 'felizlunes', 'fermentacaonatural', 'fermentação', 'fermées', 'fever', 'ficaemcasa', 'fightcovid', 'findinnerpeace', 'first', 'fitnesstips', 'flevo24', 'flu', 'fluid', 'follow', 'follow4follow', 'followme', 'food', 'foreeeeeee', 'france', 'frankreich', 'freelance', 'freelancing', 'freezer', 'freie', 'freiheit', 'früh', 'full', 'fun', 'funds', 'för', 'gafamaktien', 'gangshit', 'ganhamos', 'gbe', 'gegenteil', 'gehen', 'gemamedianet', 'gemeinsamgegencorona', 'general', 'generated', 'genesen', 'geniale', 'germany', 'geschikt', 'gestorben', 'get', 'getestet', 'getting', 'gewinnen', 'gh', 'ghana', 'gift', 'give', 'giveaway', 'gleich', 'global', 'glück', 'gn8', 'god', 'good', 'got', 'graffart', 'graffartcafe', 'graffiti', 'graffitiart', 'graffiticorona', 'grandma', 'grandmas', 'grausamer', 'gree', 'grown', 'gründen', 'guar', 'guessed', 'guten', 'gutkha', 'guys', 'gym', 'ha', 'haben', 'habit', 'hagelt', 'halbjahresbilanz', 'half', 'hamburger', 'hands', 'hangi', 'hatepeople', 'head', 'health', 'healthcare', 'healthcoach', 'healthfacts', 'healthforall', 'healthtipsoftheday', 'healthybody', 'healthydiet', 'heard', 'heavyequipment', 'heavyequipmentlife', 'hebben', 'hecho', 'helpen', 'hes', 'het', 'heute', 'hier', 'hiring', 'histsci', 'hobby', 'homeremedies', 'honble', 'hoppenheim', 'hot', 'httpinstagramcomfaceckoock', 'httpnyheavytractorcom', 'httpowlyivlg50aleej', 'httppersonalloanexpertcom', 'httpsamznto38kbo9e', 'httpsbitly38gpsex', 'httpsbitlyovmondkapjes247', 'httpsbitlywezijnweeropen', 'httpsdiseasesdiccomviralhemorrhagicfevercausessymptoms', 'httpsscihubtw101056nejmc2007800', 'httpsthehilightinglobalpublicheadtobeachesinenglandamidstcoronavirus', 'httpswwwcampernewscom20200630undimmerwillmandasgegenteil', 'httpswwwgemamedianetcom202006pasamanraihopiniwtpketujuhkalinyahtmlspreftw', 'httpswwwinstagramcompcccazvghqpuigshidf3sr7x3btage', 'httpswwwinstagramcompcccbigpnreigshid1gm7othv96eiu', 'httpswwwinstagramcompcccbvlfptnigshid1xsrz87ox2j41', 'httpswwwinstagramcompcccbyzdhoxigshidafn80n5w6pm6', 'httpswwwinstagramcompcccc61dhy3migshidh9n4o8adb8ai', 'httpswwwinstagramcompccccklwhwuvigshidannyzeq31mkh', 'httpswwwinstagramcompcccy7rauvjigshid1rhtk7ttsyz03', 'httpswwwinstagramcompcccy8rhysoigshid1mj57ev1jtndr', 'httpswwwinstagramcompcccygqtjlypigshidzidc3pb9xoq7', 'httpswwwinstagramcomtvccby5xag7qcigshid12xve6ximay6o', 'httpswwwmycomforcomartikeldasbrisantecoronapapierundseinebotschaft193224xvpx1hox2zatwitter', 'httpsyoutubenxsjqosrruo', 'httpsyoutubeuxtourka7eg', 'httpsyoutubexepxgm97p9s', 'httpxboxdevcom', 'httpziprecruitercomtjad10f2d47', 'human', 'humanity', 'hungergames', 'ich', 'ihn', 'ik', 'im', 'immediately', 'immer', 'impacts', 'implementation', 'importados', 'imposible', 'impredecible', 'increase', 'india', 'indoqq', 'industry', 'infantil', 'infect', 'infection', 'infektion', 'infektionen', 'infiziert', 'info', 'ini', 'initial', 'ins', 'instadaily', 'instagram', 'intelligent', 'interessant', 'irgendwie', 'irishtimes', 'ist', 'italy', 'ituqq', 'izleyelim', 'işsizlerin', 'ja', 'jacarepagua', 'je', 'jeden', 'jesus', 'jews', 'jobloss', 'jobs', 'johndeere', 'jonah', 'judeus', 'juge', 'jumped', 'juni', 'jünger', 'kalinya', 'kallad', 'kan', 'kann', 'kannst', 'keine', 'kept', 'ketidakpastian', 'ketujuh', 'kid', 'killed', 'kinder', 'kit', 'knast', 'know', 'knows', 'kommst', 'komst', 'koronausalanykraj', 'koronavirus', 'kraj', 'krajclonesclonewars', 'krankenhaus', 'krazy', 'kuglesidacphkbhnema', 'kunnen', 'la', 'labor', 'lagen', 'langzaam', 'laschet', 'laser', 'lassen', 'last', 'lately', 'later', 'leanin', 'lebenslang', 'left', 'les', 'lessonsofcorona', 'levain', 'lheure', 'lie', 'liegen', 'life', 'lifelong', 'light', 'lijkt', 'like', 'literally', 'live', 'lives', 'loan', 'loans', 'lockdown', 'lockdownextension', 'logo', 'logodesign', 'lol', 'longterm', 'looking', 'lot', 'love', 'lucky', 'lufthansa', 'luxury', 'maastricht', 'made', 'maindomino99', 'mais', 'make', 'makes', 'man', 'manila', 'manypeople', 'march', 'mas', 'mask', 'maskcrew', 'maske', 'masks', 'maskup', 'master', 'mathematicians', 'may', 'maybe', 'maytheoddsbeeverinyourfavor', 'mehr', 'melatetv', 'melatetvmas', 'meldt', 'memoirprojectch8usa', 'menaces', 'menschen', 'mensen', 'mentalhealth', 'mentalhealthmatters', 'mesafe', 'meses', 'message', 'might', 'milliers', 'million', 'millions', 'milyona', 'minimumwage', 'mississauga', 'missrona', 'missuniverse', 'mit', 'mitch', 'mns', 'mobshit', 'mockingjay', 'modainfantil', 'mom', 'mondkapjes', 'money', 'montag', 'moochtheseries', 'mood', 'moreira', 'morgen', 'moscow', 'moscowmitch', 'mot', 'motivation', 'motivo', 'ms13', 'mtl', 'much', 'murderhornets', 'music', 'musiccollector', 'mydaughtersecond', 'mywife', 'märz', 'möglich', 'müssen', 'na', 'nach', 'nasional', 'need', 'negativt', 'nehmen', 'neildunn', 'never', 'new', 'news', 'nh', 'nicht', 'nieuw', 'nieuwe', 'nieuws', 'nimmst', 'nimmt', 'nkri', 'noch', 'nog', 'noktadayiz', 'numbers', 'nur', 'nusantara', 'nutritionist', 'nutritiontips', 'ny', 'nytimes', 'obrigado', 'obsessed', 'oder', 'offenes', 'ohne', 'okazpolicy', 'olalim', 'old', 'onder', 'one', 'onlinecourses', 'ook', 'op', 'open', 'opini', 'opiniwtp', 'oppressed', 'opstarten', 'oral', 'orf', 'organic', 'os', 'outfit', 'ov', 'overdraagbaar', 'paes', 'pain', 'pandemia', 'pandemias', 'pandemic', 'pandemie', 'pao', 'parkingwithacamper', 'part', 'partei', 'pasaman', 'pay', 'paydayloans', 'pcr', 'pelo', 'people', 'peopleare', 'peopleknow', 'peoplethink', 'peor', 'person', 'personalloan', 'personalloanexpert', 'personen', 'personer', 'peças', 'philippines', 'photographer', 'photography', 'pigs', 'pl', 'plandemic', 'platja', 'platjalalmadrava', 'playathome', 'please', 'pls', 'plus', 'podcast', 'podcaster', 'podcasters', 'podcasting', 'podcasts', 'podernfamily', 'pokeronline', 'pop', 'por', 'porco', 'portcredit', 'portugal', 'pos', 'posible', 'positive', 'poster', 'pouvoir', 'pra', 'pranger', 'premier', 'pretty', 'product', 'produzir', 'prof', 'professionals', 'professor', 'programming', 'proibir', 'project', 'pronta', 'protest', 'protests', 'psicóloga', 'public', 'putinsgop', 'puzzlescoronastayhome', 'pães', 'quarantine', 'que', 'r8000', 'radikalisieren', 'raih', 'rajaqq', 'raréfaction', 'rassismus', 'ratuqq', 'read', 'realestate', 'recontagio', 'recoverd', 'recoveries', 'recovery', 'recruiting', 'registered', 'regnet', 'reopens', 'reporter', 'requesting', 'resist', 'ressources', 'restart', 'retraites', 'rettung', 'rheda', 'richforever', 'riodejaneiro', 'rki', 'romania', 'rubbertracks', 'rustico', 'réponses', 'sabirli', 'sake', 'salgininda', 'salgını', 'salmon', 'santa', 'sarscov2', 'satan', 'save', 'sayısı', 'scattering', 'schaffen', 'schalke', 'schalke04', 'schau', 'scheint', 'schlimmer', 'schneit', 'schon', 'schweden', 'schwein', 'schweizer', 'schön', 'sciencematters', 'secara', 'second', 'secondary', 'secondwave', 'secrecy', 'see', 'sehr', 'sein', 'seine', 'seit', 'semangat', 'senatorneildunn', 'seperti', 'sergiorojas56', 'series', 'serious', 'seriously', 'sexy', 'shares', 'shit', 'shop', 'showing', 'sich', 'sick', 'sie', 'since', 'sind', 'single', 'siperlik', 'sir', 'situasi', 'sketch', 'sketchnotes', 'social', 'socialdistancing', 'software', 'sogar', 'solchen', 'solusi', 'solusicerdas', 'som', 'someone', 'songs', 'sonne', 'sonrası', 'sourdough', 'soviel', 'spain', 'spanien', 'speech', 'spikes', 'spitting', 'sports', 'spreading', 'spreadingjoy', 'spreads', 'spät', 'stayathome', 'stayhome', 'staysafe', 'staysave', 'stigma', 'still', 'stirbst', 'stop', 'story', 'strong', 'stub', 'study', 'stupid', 'style', 'sub2dramaalert', 'sucesso', 'suffer', 'sumaterabarat', 'sun', 'superbly', 'supposed', 'sur', 'sure', 'surpassed', 'svetakopenhagenovde', 'svpol', 'swag', 'så', 'só', 'tag', 'take', 'target', 'tattoo', 'tausend', 'tcellsimmunitet', 'te', 'tech', 'tedbirleri', 'teil', 'tekrar', 'tell', 'tennessee', 'terex', 'terwijl', 'tesla', 'test', 'testats', 'tested', 'tests', 'testthe', 'tetap', 'thanks', 'thankyou', 'thehilight', 'thing', 'things', 'think', 'thinks', 'thru', 'thymeristorante', 'tiga', 'tiktok', 'time', 'tobacco', 'toennis', 'took', 'total', 'totals', 'tournent', 'tracks', 'trendingnews', 'trotzen', 'trump', 'trumps', 'trumpscoronavirusrally', 'truth', 'trying', 'ts', 'tsrtcbuses', 'tsrtchq', 'tuesdaythoughts', 'turkey', 'tutorials', 'tweet', 'two', 'tönnies', 'türkiye', 'ufc', 'uhwas', 'uk', 'ulaştı', 'uma', 'umzugehen', 'un', 'und', 'undercarriage', 'une', 'unemployment', 'unimaginably', 'unos', 'uns', 'unsere', 'update', 'updated', 'upset', 'urgences', 'us', 'usa', 'usaf', 'users', 'uyalim', 'uyaralim', 'varkens', 'vec', 'verantwortung', 'verdächtige', 'versuchen', 'versuchst', 'vez', 'video', 'videoconference', 'vino', 'vinos', 'viral', 'viralhemorrhagic', 'virgil', 'virologe', 'virus', 'viruscorona', 'viruses', 'vise', 'visit', 'visualizing', 'vocênocomando', 'vol', 'vom', 'von', 'vs', 'wages', 'wagt', 'wait', 'waiting', 'wakeup', 'wand', 'war', 'warisnecessary', 'warriors', 'wartime', 'warum', 'wash', 'watching', 'way', 'wear', 'wearing', 'wearyourmask', 'weatherphotography', 'webdev', 'weedandalcohol', 'weer', 'weil', 'weiter', 'welcome', 'well', 'wellbeing', 'wellnesstips', 'weniger', 'wenn', 'went', 'werden', 'wetterfotografie', 'wetterfröschen', 'wfh', 'whitegirl', 'whitepeople', 'widerstand2020', 'wie', 'wieder', 'wil', 'wir', 'wir2020', 'wir2020partei', 'wird', 'wirr2020', 'wohl', 'women', 'work', 'working', 'workout', 'world', 'worldstar', 'worry', 'writer', 'writing', 'wtp', 'yall', 'yalll', 'yeah', 'year', 'yesterdays', 'youare', 'youmatter', 'zahl', 'zijn', 'zitten', 'zoavam', 'zoom', 'zouden', 'zoyaqq', 'zu', 'zukunftsprognose', 'zurück', 'zuviel', 'ändå', 'économique', 'über', 'şenol', 'אז', 'אחרון', 'בישראל', 'חולי', 'יש', 'כמה', 'מאומתים', 'מתים', 'עדכון', 'קוביד19', 'קורונה', 'שהבריאו', 'أزمة', 'أمانه', 'أمنالدولة', 'أول', 'إثر', 'إيران', 'استخدام', 'الدويلة', 'القذافي', 'الكويت', 'انتكوناولا', 'بعد', 'تسريب', 'تطبيقعكاظ', 'ثبوت', 'عاجل', 'عكاظ', 'كورونا', 'كوفيد19', 'لـ', 'لقائه', 'للقاح', 'مرتزقة', 'مشتقات', 'مضاد', 'مع', 'نفطية', 'وزيرالإعلاماليمني', 'وفعاليته', 'يستدعي', 'يفتعلون', 'नए', 'だから企業に言って', 'ってまだ言ってるわけ', 'では入手困難', 'の代用品として', 'もうあっという間に満員電車', 'アティック', 'アティックツアーズ', 'アティックツアーズ東京', 'アナウンスで', 'コロナ', 'セブ', 'テレワークのご協力をお願いします', 'パストリーゼ', 'フィリピン', 'マニラ', '今なら手に入ります', '企業', '千代田線', '場所', '小田急線', '感染者数', '手ピカジェル', '時差通勤', '楽天市場', '次亜塩素酸', '残り', '満員通勤電車', '限定発売']\n",
      "vocab        : {'coronainfoch': 232, 'covid19': 248, 'corona': 231, 'trendingnews': 1052, 'lockdown': 654, 'mathematicians': 683, 'crack': 253, 'stub': 992, 'us': 1088, 'channel': 209, 'gree': 471, 'abdde': 52, 'covi': 246, 'd19': 266, 'salgını': 904, 'sonrası': 969, 'işsizlerin': 583, 'sayısı': 910, '45': 36, 'milyona': 704, 'ulaştı': 1072, 'abd': 51, 'usaf': 1090, 'usa': 1089, 'coronavirus': 240, 'coronaviruspandemic': 242, 'covid': 247, 'covid19pandemic': 249, 'germany': 444, 'rettung': 892, 'der': 295, 'juge': 595, 'frankreich': 421, 'eindlich': 347, 'ein': 346, 'offenes': 770, 'feld': 401, 'alfreddraxler': 69, 'ekelhaft': 351, 'wie': 1157, 'du': 338, 'alkoholiker': 70, 'versuchst': 1099, 'mit': 709, 'deinem': 284, 'artikel': 100, 'von': 1118, 'schalke': 913, 'und': 1076, 'tönnies': 1067, 'abzulenken': 58, 'nimmst': 754, 'dafür': 268, 'sogar': 961, 'noch': 757, 'bild': 151, 'dortmund': 325, 'vs': 1119, 'hoppenheim': 514, 'fahr': 394, 'doch': 321, 'nach': 740, 'rheda': 893, 'besuche': 148, 'ihn': 549, 'dann': 273, 'kommst': 615, 'einer': 349, 'infektion': 566, 'zurück': 1192, 'stirbst': 988, 'laser': 630, 'light': 646, 'scattering': 911, 'experiment': 390, 'showing': 946, 'speech': 974, 'generated': 441, 'droplets': 332, 'visualizing': 1114, 'oral': 785, 'fluid': 414, 'httpsscihubtw101056nejmc2007800': 525, 'mask': 677, 'maskup': 681, 'masks': 680, 'coronaoutbreak': 233, 'update': 1084, 'zu': 1190, 'das': 274, 'brisante': 175, 'coronapapier': 234, 'seine': 933, 'botschaft': 166, 'schweizer': 922, 'professor': 855, 'erklärt': 370, 'warum': 1130, 'bei': 140, 'alle': 71, 'falsch': 396, 'lagen': 627, 'immer': 553, 'liegen': 643, 'httpswwwmycomforcomartikeldasbrisantecoronapapierundseinebotschaft193224xvpx1hox2zatwitter': 539, 'need': 742, 'logo': 656, 'design': 298, 'please': 827, 'visit': 1113, 'httpsbitly38gpsex': 521, 'putinsgop': 864, 'sub2dramaalert': 996, 'ms13': 728, 'virgil': 1107, 'trumps': 1055, 'america': 78, 'logodesign': 657, 'realestate': 877, 'professionals': 854, 'trumpscoronavirusrally': 1056, 'sports': 977, 'ist': 579, 'sehr': 931, 'interessant': 576, 'schon': 919, 'im': 551, 'märz': 736, '2019': 20, 'barcelona': 134, 'abwasserprobe': 57, 'sarscov2': 907, 'health': 491, 'actions': 62, 'women': 1166, 'homeremedies': 512, 'nutritiontips': 764, 'exercise': 389, 'stayhome': 983, 'workout': 1169, 'healthcoach': 493, 'healthybody': 497, 'staysafe': 984, 'fitnesstips': 411, 'wellnesstips': 1146, 'organic': 787, 'love': 662, 'nutritionist': 763, 'wellbeing': 1145, 'gym': 479, 'mentalhealth': 695, 'healthfacts': 494, 'motivation': 726, 'healthtipsoftheday': 496, 'detox': 299, 'healthydiet': 498, 'ach': 59, 'ja': 584, 'ausbeutung': 116, 'laschet': 629, 'rassismus': 874, 'schalke04': 914, 'אז': 1198, 'כמה': 1203, 'חולי': 1201, 'קורונה': 1208, 'יש': 1202, 'בישראל': 1200, '24441': 26, 'מאומתים': 1204, '319': 32, 'מתים': 1205, '17218': 15, 'שהבריאו': 1209, 'עדכון': 1206, 'אחרון': 1199, '20200630': 23, '014337': 0, 'קוביד19': 1207, 'breaking': 172, 'brekend': 173, 'nieuws': 753, 'bbc': 135, 'meldt': 690, 'een': 343, 'nieuw': 751, 'virus': 1109, 'onder': 775, 'varkens': 1094, 'het': 506, 'lijkt': 647, 'te': 1017, 'zijn': 1184, 'dat': 276, 'overdraagbaar': 791, 'op': 779, 'mensen': 694, 'terwijl': 1025, 'nog': 758, 'vol': 1116, 'zitten': 1185, 'er': 369, 'nieuwe': 752, 'pandemie': 797, 'komst': 616, 'public': 863, 'head': 490, 'beaches': 136, 'england': 361, 'amidst': 79, 'read': 876, 'full': 428, 'story': 990, 'httpowlyivlg50aleej': 518, 'thehilight': 1035, 'india': 560, 'photography': 820, 'france': 420, 'uk': 1071, 'italy': 580, 'romania': 897, 'spain': 972, 'europe': 383, 'australia': 117, 'belgium': 142, 'portugal': 841, 'austria': 118, 'httpsthehilightinglobalpublicheadtobeachesinenglandamidstcoronavirus': 526, 'عاجل': 1225, 'بعد': 1221, 'ثبوت': 1224, 'أمانه': 1211, 'وفعاليته': 1238, 'أول': 1213, 'استخدام': 1216, 'للقاح': 1231, 'مضاد': 1234, 'لـ': 1229, 'كورونا': 1227, 'عكاظ': 1226, 'انتكوناولا': 1220, 'تطبيقعكاظ': 1223, 'personer': 816, 'som': 965, 'testats': 1028, 'negativt': 743, 'för': 431, 'antikroppar': 89, 'kan': 601, 'ändå': 1194, 'ha': 480, 'så': 1009, 'kallad': 600, 'tcellsimmunitet': 1016, 'mot': 725, 'svpol': 1007, 'coronasweden': 237, 'httpsyoutubexepxgm97p9s': 542, 'depressionnote': 293, 'tiktok': 1043, 'findinnerpeace': 409, 'mentalhealthmatters': 696, 'lockdownextension': 655, 'mas': 676, 'info': 569, 'el': 352, 'es': 371, 'impredecible': 558, 'melatetv': 688, 'sergiorojas56': 938, 'danielexhuevo': 272, 'melatetvmas': 689, 'dr': 326, 'chanta': 210, 'este': 376, 'asi': 104, 'que': 868, 'imposible': 557, 'asegurar': 103, 'posible': 843, 'recontagio': 878, 'de': 279, 'hecho': 503, 'peor': 811, 'best': 146, 'year': 1179, 'billions': 153, 'ufc': 1069, 'lately': 633, 'discovered': 316, 'hobby': 511, 'writing': 1174, 'actually': 63, 'didnt': 307, 'know': 613, 'much': 730, 'give': 454, 'time': 1044, 'busy': 179, 'made': 667, 'obsessed': 768, 'one': 776, 'things': 1037, 'easily': 340, 'change': 208, 'mood': 720, 'better': 149, 'gemeinsamgegencorona': 439, 'mns': 711, 'abstandhalten': 56, 'gn8': 459, 'jeden': 587, 'tag': 1011, 'früh': 427, 'bis': 157, 'spät': 981, 'schaffen': 912, 'wir': 1160, 'ohne': 771, 'uns': 1082, 'die': 308, 'freiheit': 426, 'nehmen': 744, 'lassen': 631, 'müssen': 738, 'unsere': 1083, 'freie': 425, 'entscheidung': 366, 'verantwortung': 1096, 'eigenverantwortung': 345, 'yesterdays': 1180, 'poster': 845, 'delivery': 286, 'fightcovid': 408, 'pandemic': 796, 'youmatter': 1182, 'thankyou': 1034, 'jonah': 593, 'conquercovid': 226, 'portcredit': 840, 'spreadingjoy': 979, 'mississauga': 706, 'thymeristorante': 1041, 'total': 1048, 'cases': 190, '10395640': 5, 'current': 262, 'deaths': 282, '507416': 38, 'recoveries': 880, '5646130': 40, 'coronavirusupdate': 243, 'zoyaqq': 1189, 'pokeronline': 836, 'dominoonline': 323, 'bandarq': 132, 'dirumahaja': 315, 'staysave': 985, 'rajaqq': 872, 'indoqq': 561, 'dewapoker': 304, 'dewaqq': 305, 'asikqq': 105, 'ituqq': 581, 'ahliqq': 67, 'maindomino99': 668, 'aslidomino': 106, 'ratuqq': 875, 'shares': 943, 'zoom': 1187, 'jumped': 596, 'video': 1101, 'conference': 225, 'company': 222, 'announced': 86, 'surpassed': 1005, '300': 31, 'million': 702, 'daily': 269, 'users': 1091, 'increase': 559, '100': 3, 'since': 950, 'last': 632, 'april': 97, 'quarantine': 867, 'entrepreneur': 365, 'videoconference': 1102, 'controleemocional': 229, 'ansiedade': 87, 'crisedeansiedade': 256, 'depressão': 294, 'angustia': 82, 'estresse': 377, 'vocênocomando': 1115, 'eunocomando': 382, 'pandemia': 794, 'amanda': 75, 'moreira': 721, 'psicóloga': 862, 'crp': 258, '0698852': 2, '11': 7, '955308725': 46, 'الكويت': 1219, 'أمنالدولة': 1212, 'يستدعي': 1239, 'الدويلة': 1217, 'إثر': 1214, 'تسريب': 1222, 'لقائه': 1230, 'مع': 1235, 'القذافي': 1218, 'looking': 660, 'pay': 803, 'bills': 154, 'emergency': 358, 'funds': 430, 'apply': 95, 'money': 717, 'httppersonalloanexpertcom': 519, 'jobloss': 590, 'target': 1013, 'minimumwage': 705, 'wages': 1120, 'unemployment': 1079, 'loan': 652, 'loans': 653, 'news': 748, 'paydayloans': 804, 'personalloan': 813, 'personalloanexpert': 814, 'httpsyoutubenxsjqosrruo': 540, 'missuniverse': 708, 'broken': 176, 'nytimes': 766, 'histsci': 510, 'upset': 1086, 'leanin': 635, 'ciclismoxespn': 214, 'people': 807, 'peopleare': 808, 'shit': 944, 'trump': 1054, 'peoplethink': 810, 'person': 812, 'lot': 661, 'life': 644, 'hatepeople': 489, 'manypeople': 674, 'dont': 324, 'whitepeople': 1155, 'thing': 1036, 'everyone': 386, 'work': 1167, 'peopleknow': 809, 'youare': 1181, 'elearning': 354, 'freelance': 422, 'freelancing': 423, 'ghana': 452, 'onlinecourses': 777, 'lessonsofcorona': 639, 'gh': 451, 'tech': 1018, 'new': 747, 'cd': 196, 'single': 952, 'baby': 125, '1995': 19, 'cdsingle': 204, '90s': 45, 'pop': 837, 'musiccollector': 733, 'babybaby': 126, 'dancemusic': 271, 'music': 732, 'songs': 967, 'cdcollection': 202, 'cdcollector': 203, 'yall': 1176, 'believe': 143, 'still': 987, 'recruiting': 882, 'study': 993, 'もうあっという間に満員電車': 1246, 'アナウンスで': 1250, '時差通勤': 1264, 'テレワークのご協力をお願いします': 1253, 'ってまだ言ってるわけ': 1243, 'だから企業に言って': 1242, '小田急線': 1261, '千代田線': 1259, '満員通勤電車': 1268, '企業': 1258, 'foreeeeeee': 419, 'shop': 945, 'httpnyheavytractorcom': 517, '16319014737': 11, 'rubbertracks': 898, 'tracks': 1051, 'ctl': 260, 'mtl': 729, 'heavyequipment': 500, 'deere': 283, 'heavyequipmentlife': 501, 'ny': 765, 'bobcat': 160, 'undercarriage': 1077, 'cat': 192, 'asv': 107, 'terex': 1024, 'johndeere': 592, 'httpswwwinstagramcompcccygqtjlypigshidzidc3pb9xoq7': 537, 'longterm': 659, 'effects': 344, 'makes': 671, 'serious': 940, 'lifelong': 645, 'secondary': 927, 'impacts': 554, 'human': 545, 'body': 162, 'yalll': 1177, 'grandma': 468, 'died': 309, 'march': 675, 'mom': 715, 'trying': 1058, 'grandmas': 469, 'old': 774, 'freezer': 424, 'food': 418, 'missrona': 707, 'salmon': 905, 'dead': 280, 'entschuldigung': 367, 'schlimmer': 917, 'grausamer': 470, 'als': 73, 'infiziert': 568, 'werden': 1150, '30': 30, 'tausend': 1015, 'verdächtige': 1097, 'eine': 348, 'schön': 923, 'zuviel': 1193, 'wird': 1163, 'kinder': 610, 'lebenslang': 636, 'sie': 949, 'versuchen': 1098, 'damit': 270, 'irgendwie': 577, 'umzugehen': 1074, 'wenn': 1148, 'möglich': 737, 'kit': 611, 'peças': 817, 'r8000': 869, 'pronta': 859, 'entrega': 363, '12': 9, '18': 17, 'meses': 698, '98860': 49, '0206': 1, 'dindasdindom': 310, 'jacarepagua': 585, 'riodejaneiro': 895, 'modainfantil': 714, 'infantil': 563, 'ficaemcasa': 407, 'emcasa': 357, 'entregamosparatodobrasil': 364, 'importados': 556, 'httpswwwinstagramcompcccy8rhysoigshid1mj57ev1jtndr': 536, 'descansapao': 297, 'sucesso': 997, 'cestos': 207, 'pra': 847, 'fermentação': 404, 'agora': 66, 'só': 1010, 'produzir': 852, 'os': 788, 'pães': 866, 'obrigado': 767, 'pelo': 806, 'atendimento': 109, 'paes': 792, 'hamburger': 486, 'delicia': 285, 'sourdough': 970, 'rustico': 899, 'bread': 171, 'levain': 640, 'pao': 798, 'fermentacaonatural': 403, 'httpswwwinstagramcompcccy7rauvjigshid1rhtk7ttsyz03': 535, '407': 33, 'flevo24': 412, 'euhhoeveel': 381, 'mondkapjes': 716, 'geschikt': 445, 'ov': 790, 'wil': 1159, 'je': 586, 'hebben': 502, 'hier': 508, 'beschikbare': 145, 'httpsbitlyovmondkapjes247': 522, 'les': 638, 'urgences': 1087, 'lheure': 641, 'tournent': 1050, 'autour': 119, 'des': 296, 'réponses': 900, 'apporter': 96, 'au': 113, 'et': 379, 'aux': 120, 'conséquences': 228, 'la': 625, 'crise': 255, 'économique': 1195, 'millions': 703, 'chômeurs': 213, 'milliers': 701, 'dentreprises': 291, 'fermées': 405, 'une': 1078, 'raréfaction': 873, 'ressources': 889, 'en': 359, 'devises': 303, 'baisse': 128, 'pouvoir': 846, 'dachat': 267, 'menaces': 692, 'sur': 1003, 'retraites': 891, 'way': 1133, 'guys': 478, 'tweet': 1065, 'tell': 1022, 'wash': 1131, 'hands': 487, 'pls': 828, 'cautious': 195, 'halbjahresbilanz': 484, 'börse': 181, 'gafamaktien': 432, 'tesla': 1026, 'trotzen': 1053, 'bestätigte': 147, 'personen': 815, 'deutschland': 300, '195042': 18, 'genesen': 442, '177770': 16, 'gestorben': 446, '8976': 44, 'coronavirusdeutschland': 241, 'rki': 896, 'totals': 1049, 'cooked': 230, 'follow': 415, 'cdc': 197, 'plus': 829, '985': 48, 'recovery': 881, 'initial': 571, 'data': 277, 'guessed': 475, 'think': 1038, 'tests': 1030, 'available': 121, 'strong': 991, 'antiracism': 90, 'message': 699, 'restart': 890, 'premier': 849, 'lufthansa': 664, 'implementation': 555, 'bailout': 127, 'deal': 281, 'guar': 474, 'heard': 499, 'someone': 966, 'went': 1149, 'get': 447, 'tested': 1029, 'drive': 329, 'thru': 1040, 'kid': 608, 'registered': 883, 'take': 1012, 'test': 1027, 'got': 462, 'sick': 948, 'waiting': 1123, 'left': 637, 'days': 278, 'later': 634, 'call': 184, 'positive': 844, 'never': 746, 'even': 384, 'took': 1047, 'testthe': 1031, 'numbers': 760, 'lie': 642, 'plandemic': 823, 'fakenews': 395, 'administration': 64, 'drops': 334, 'secrecy': 929, 'tennessee': 1023, 'advances': 65, '6week': 42, 'abortion': 54, 'updated': 1085, '20200629': 22, '2305010000gmt': 25, '10395568': 4, '507411': 37, 'graffiti': 465, 'watching': 1132, 'httpsyoutubeuxtourka7eg': 541, 'graffart': 463, 'graffitiart': 466, 'graffiticorona': 467, 'covidー19': 252, 'stayathome': 982, 'koronavirus': 618, 'wfh': 1153, 'sketchnotes': 957, 'sketch': 956, 'drawingtutorial': 328, 'tutorials': 1064, 'drawingoftheday': 327, 'style': 995, 'graffartcafe': 464, 'viruscorona': 1110, 'art': 99, 'canada': 188, 'open': 780, 'ts': 1059, 'col': 221, 'live': 650, '112': 8, 'नए': 1241, '9618': 47, 'coronaupdatesinindia': 239, 'hiring': 509, 'general': 440, 'labor': 626, 'ca': 182, 'httpziprecruitercomtjad10f2d47': 544, 'jobs': 591, 'spreads': 980, 'may': 684, 'tobacco': 1045, 'spitting': 976, 'requesting': 887, 'tsrtchq': 1061, 'tsrtcbuses': 1060, 'drivers': 330, 'avoid': 122, 'gutkha': 477, 'habit': 482, 'sake': 902, 'honble': 513, 'ajaypuvvada': 68, 'sir': 954, 'pl': 822, 'good': 461, 'action': 61, 'make': 670, 'act': 60, 'ban': 131, 'bodoschiffmann': 161, 'jünger': 598, 'radikalisieren': 870, 'sich': 947, 'teil': 1020, '25': 27, 'heute': 507, 'pranger': 848, 'knast': 612, 'oder': 769, 'gleich': 456, 'wand': 1125, 'ich': 548, 'befürchte': 138, 'dass': 275, 'man': 672, 'solchen': 962, 'anhängern': 83, 'keine': 604, 'demokratische': 287, 'partei': 801, 'gründen': 473, 'kann': 602, 'widerstand2020': 1156, 'wir2020': 1161, 'wir2020partei': 1162, 'wirr2020': 1164, 'izleyelim': 582, 'dinleyelim': 311, 'tekrar': 1021, 'edelim': 342, 'tedbirleri': 1019, 'elden': 353, 'birakmayalim': 156, 'uyalim': 1092, 'uyaralim': 1093, 'sabirli': 901, 'olalim': 773, 'turkey': 1063, 'türkiye': 1068, 'maske': 679, 'siperlik': 953, 'mesafe': 697, 'socialdistancing': 959, 'coronovirus': 244, 'salgininda': 903, 'hangi': 488, 'noktadayiz': 759, 'prof': 853, 'esin': 373, 'şenol': 1197, 'esenol': 372, 'httpswwwinstagramcomtvccby5xag7qcigshid12xve6ximay6o': 538, '410': 34, 'nh': 749, 'ook': 778, 'weer': 1140, 'langzaam': 628, 'aan': 50, 'opstarten': 784, 'na': 739, 'crisis': 257, 'ik': 550, 'zouden': 1188, 'elkaar': 356, 'kunnen': 624, 'helpen': 504, 'httpsbitlywezijnweeropen': 523, '限定発売': 1269, 'パストリーゼ': 1254, '17200ml': 14, '残り': 1267, '16点': 13, 'amazon': 77, 'httpsamznto38kbo9e': 520, '楽天市場': 1265, 'では入手困難': 1244, '今なら手に入ります': 1257, '手ピカジェル': 1263, '次亜塩素酸': 1266, 'の代用品として': 1245, 'コロナ': 1251, 'suffer': 998, 'viral': 1105, 'fever': 406, 'might': 700, 'viralhemorrhagic': 1106, 'click': 218, 'httpsdiseasesdiccomviralhemorrhagicfevercausessymptoms': 524, 'infection': 565, 'healthforall': 495, 'healthcare': 492, 'dengue': 290, 'ebola': 341, 'diseaseoutbreaks': 318, 'tuesdaythoughts': 1062, 'disgusting': 320, 'claytravis': 215, 'schau': 915, 'dir': 312, 'auf': 115, 'httpxboxdevcom': 543, 'kannst': 603, 'etwas': 380, 'gewinnen': 450, 'giveaway': 455, 'playathome': 826, '29062020': 29, 'philippines': 818, 'manila': 673, 'cebu': 205, 'attic': 111, 'attictours': 112, 'フィリピン': 1255, 'マニラ': 1256, 'セブ': 1252, '感染者数': 1262, 'アティック': 1247, 'アティックツアーズ': 1248, 'アティックツアーズ東京': 1249, '場所': 1260, 'httpswwwinstagramcompcccazvghqpuigshidf3sr7x3btage': 529, 'camanpour': 185, 'jews': 589, 'irishtimes': 578, 'beckycnn': 137, 'kraj': 619, 'svetakopenhagenovde': 1006, 'vec': 1095, 'krajclonesclonewars': 620, 'cloneclubklonovibeogradsrbijasrbitmkamodricacovid19': 219, 'koronausalanykraj': 617, 'kuglesidacphkbhnema': 623, 'vise': 1112, 'worry': 1172, 'product': 851, 'superbly': 1001, 'well': 1144, 'world': 1170, 'thanks': 1033, 'global': 457, 'gift': 453, 'master': 682, 'viruses': 1111, 'وزيرالإعلاماليمني': 1237, 'مرتزقة': 1232, 'إيران': 1215, 'يفتعلون': 1240, 'أزمة': 1210, 'مشتقات': 1233, 'نفطية': 1236, 'okazpolicy': 772, 'hot': 515, 'schweden': 920, 'nimmt': 755, 'zahl': 1183, 'infektionen': 567, 'sind': 951, 'nur': 761, 'false': 397, 'pcr': 805, 'pos': 842, 'seit': 934, 'anfang': 81, 'juni': 597, 'wieder': 1158, 'wohl': 1165, 'weil': 1141, 'mehr': 687, 'getestet': 448, 'dtodeszahlen': 337, 'gehen': 437, 'weiter': 1142, 'weniger': 1147, 'coronapatienten': 235, 'ins': 572, 'krankenhaus': 621, 'worldstar': 1171, 'weedandalcohol': 1139, 'wartime': 1129, 'warisnecessary': 1127, 'bombfirst': 165, 'protest': 860, 'mobshit': 712, 'dte': 336, 'cvr': 265, 'gbe': 435, 'artillery': 101, 'gangshit': 433, 'war': 1126, 'pain': 793, 'krazy': 622, 'richforever': 894, 'stupid': 994, 'childsupport': 211, 'custody': 263, 'httpswwwinstagramcompcccbvlfptnigshid1xsrz87ox2j41': 531, 'wait': 1122, 'everybody': 385, 'see': 930, 'fun': 429, 'project': 858, 'working': 1168, 'moochtheseries': 719, 'cast': 191, 'amazing': 76, 'brilliantso': 174, 'lucky': 663, 'fearless': 400, 'writer': 1173, 'director': 313, 'creativity': 254, 'httpswwwinstagramcompcccbyzdhoxigshidafn80n5w6pm6': 532, 'brand': 170, 'episode': 368, 'discuss': 317, 'evil': 387, 'humanity': 546, 'amp': 80, 'first': 410, 'two': 1066, 'part': 800, 'series': 939, 'podcast': 830, 'podcasts': 834, 'podcasting': 833, 'podcaster': 831, 'podcasters': 832, 'podernfamily': 835, 'apple': 93, 'applepodcasts': 94, 'bible': 150, 'wakeup': 1124, 'httpswwwinstagramcompcccbigpnreigshid1gm7othv96eiu': 530, 'apakah': 91, 'dirimu': 314, 'cukup': 261, 'cerdas': 206, 'di': 306, 'situasi': 955, 'seperti': 937, 'ini': 570, 'tetap': 1032, 'semangat': 935, 'atasi': 108, 'ketidakpastian': 606, 'dengan': 289, 'tiga': 1042, 'solusi': 963, 'bankindonesia': 133, 'solusicerdas': 964, 'warriors': 1128, 'httpinstagramcomfaceckoock': 516, 'followme': 417, 'instadaily': 573, 'outfit': 789, 'f4f': 393, 'photographer': 819, 'architecture': 98, 'swag': 1008, 'sexy': 942, 'sun': 1000, 'luxury': 665, 'awesome': 123, 'follow4follow': 416, 'cute': 264, 'boy': 167, 'tattoo': 1014, 'كوفيد19': 1228, 'pretty': 850, 'instagram': 574, 'geniale': 443, 'virologe': 1108, 'drosten': 335, 'wagt': 1121, 'zukunftsprognose': 1191, 'über': 1196, 'abschwächen': 55, 'auch': 114, 'nicht': 750, 'den': 288, 'wetterfröschen': 1152, 'vom': 1117, 'orf': 786, 'morgen': 722, 'regnet': 884, 'schneit': 918, 'hagelt': 483, 'scheint': 916, 'sonne': 968, 'bin': 155, 'begeistert': 139, 'resist': 888, 'cle': 216, 'cleveland': 217, 'truth': 1057, 'god': 460, 'satan': 908, 'jesus': 588, 'billandmelindagates': 152, 'covid19vic': 250, 'covidiots': 251, 'reopens': 885, 'brothels': 177, 'gemamedianet': 438, 'pasaman': 802, 'raih': 871, 'opini': 781, 'wtp': 1175, 'ketujuh': 607, 'kalinya': 599, 'secara': 925, 'bert': 144, 'httpswwwgemamedianetcom202006pasamanraihopiniwtpketujuhkalinyahtmlspreftw': 528, 'nusantara': 762, 'nkri': 756, 'nasional': 741, 'sumaterabarat': 999, 'bpkri': 168, 'bpkriperwakilansumbar': 169, 'opiniwtp': 782, '10400208': 6, 'recoverd': 879, '5646431': 41, '507494': 39, 'coronaupdate': 238, 'gegenteil': 436, 'montag': 718, '29': 28, '2020': 21, 'platjalalmadrava': 825, 'spanien': 973, 'españa': 374, 'guten': 476, 'platja': 824, 'almadrava': 72, 'httpswwwcampernewscom20200630undimmerwillmandasgegenteil': 527, 'campernews': 187, 'parkingwithacamper': 799, 'wetterfotografie': 1151, 'weatherphotography': 1137, 'campercat': 186, 'infect': 564, 'developer': 301, '85': 43, 'software': 960, 'developers': 302, 'industry': 562, 'anti': 88, 'social': 958, 'apparently': 92, 'programming': 856, 'webdev': 1138, 'depois': 292, 'zoavam': 1186, 'judeus': 594, 'bíblia': 180, 'por': 838, 'proibir': 857, 'consumo': 227, 'animais': 84, 'exóticos': 392, 'carne': 189, 'porco': 839, 'está': 378, 'aí': 124, 'motivo': 727, 'pandemias': 795, 'china': 212, 'seriously': 941, 'conditions': 224, 'animals': 85, 'kept': 605, 'atrocious': 110, 'literally': 649, 'getting': 449, 'killed': 609, 'stop': 989, 'immediately': 552, 'especially': 375, 'pigs': 821, 'intelligent': 575, 'dogs': 322, 'spreading': 978, 'diseases': 319, 'also': 74, 'unimaginably': 1080, 'cruel': 259, 'flu': 413, 'schwein': 921, 'haben': 481, 'sein': 932, 'einiger': 350, 'menschen': 693, 'soviel': 971, 'glück': 458, 'beides': 141, 'toennis': 1046, '20yo': 24, 'reporter': 886, 'thinks': 1039, 'knows': 614, 'expert': 391, 'sciencematters': 924, 'like': 648, '16yo': 12, 'whitegirl': 1154, 'grown': 472, 'blackman': 159, 'hes': 505, 'oppressed': 783, 'lol': 658, 'welcome': 1143, 'clownworld': 220, 'neildunn': 745, 'senatorneildunn': 936, 'drnealdunn': 331, 'mais': 669, 'uma': 1073, 'vez': 1100, 'ganhamos': 434, 'corrida': 245, 'sure': 1004, 'maybe': 685, 'spikes': 975, 'due': 339, 'blacklivesmatter': 158, 'protests': 861, '125000american': 10, 'moscow': 723, 'mitch': 710, 'favors': 398, 'wearing': 1135, 'save': 909, 'lives': 651, 'stigma': 986, 'wear': 1134, 'aboard': 53, 'moscowmitch': 724, 'un': 1075, 'buen': 178, 'asado': 102, 'unos': 1081, 'vinos': 1104, 'calidad': 183, 'compañía': 223, 'excelente': 388, 'bogota': 163, 'vino': 1103, 'felizlunes': 402, 'santa': 906, 'fe': 399, 'bogotá': 164, 'httpswwwinstagramcompccccklwhwuvigshidannyzeq31mkh': 534, 'wearyourmask': 1136, 'maskcrew': 678, 'enter': 362, 'second': 926, 'half': 485, 'maytheoddsbeeverinyourfavor': 686, 'hungergames': 547, 'balladofsongbirdsandsnakes': 130, 'murderhornets': 731, 'secondwave': 928, 'electionyear': 355, 'catchingfire': 193, 'mockingjay': 713, 'uhwas': 1070, 'supposed': 1002, 'encouraging': 360, 'cause': 194, 'yeah': 1178, 'dropped': 333, 'ball': 129, 'cdcgov': 201, 'cdcehealth': 198, 'cdcflu': 199, 'cdcglobal': 200, 'memoirprojectch8usa': 691, 'coronastayhomepuzzles': 236, 'puzzlescoronastayhome': 865, 'mywife': 735, 'mydaughtersecond': 734, 'httpswwwinstagramcompcccc61dhy3migshidh9n4o8adb8ai': 533, '416': 35, 'maastricht': 666}\n"
     ]
    }
   ],
   "source": [
    "#creating bag of words\n",
    "vect1.fit_transform(tokenized_words)\n",
    "print(\"bag of words :\",vect1.get_feature_names())\n",
    "print(\"vocab        :\",vect1.vocabulary_)"
   ]
  },
  {
   "cell_type": "code",
   "execution_count": null,
   "metadata": {},
   "outputs": [],
   "source": []
  },
  {
   "cell_type": "code",
   "execution_count": null,
   "metadata": {},
   "outputs": [],
   "source": [
    "\n"
   ]
  },
  {
   "cell_type": "markdown",
   "metadata": {},
   "source": []
  },
  {
   "cell_type": "markdown",
   "metadata": {},
   "source": []
  },
  {
   "cell_type": "code",
   "execution_count": null,
   "metadata": {},
   "outputs": [],
   "source": []
  },
  {
   "cell_type": "markdown",
   "metadata": {},
   "source": []
  },
  {
   "cell_type": "code",
   "execution_count": null,
   "metadata": {},
   "outputs": [],
   "source": []
  },
  {
   "cell_type": "code",
   "execution_count": null,
   "metadata": {},
   "outputs": [],
   "source": []
  },
  {
   "cell_type": "code",
   "execution_count": null,
   "metadata": {},
   "outputs": [],
   "source": []
  },
  {
   "cell_type": "code",
   "execution_count": null,
   "metadata": {},
   "outputs": [],
   "source": []
  },
  {
   "cell_type": "code",
   "execution_count": null,
   "metadata": {},
   "outputs": [],
   "source": []
  }
 ],
 "metadata": {
  "kernelspec": {
   "display_name": "Python 3",
   "language": "python",
   "name": "python3"
  },
  "language_info": {
   "codemirror_mode": {
    "name": "ipython",
    "version": 3
   },
   "file_extension": ".py",
   "mimetype": "text/x-python",
   "name": "python",
   "nbconvert_exporter": "python",
   "pygments_lexer": "ipython3",
   "version": "3.7.6"
  }
 },
 "nbformat": 4,
 "nbformat_minor": 2
}
